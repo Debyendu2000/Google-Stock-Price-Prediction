{
  "cells": [
    {
      "cell_type": "markdown",
      "metadata": {
        "id": "D1FRMXaNupvk"
      },
      "source": [
        "\n",
        "\n",
        "## **Project 1 : Comprehensive Regression Analysis**"
      ]
    },
    {
      "cell_type": "markdown",
      "metadata": {
        "id": "oYFHnr_AOqJZ"
      },
      "source": [
        "# **Name : Debyendu Routh**\n",
        "\n",
        "\n"
      ]
    },
    {
      "cell_type": "markdown",
      "metadata": {
        "id": "GMybRSltxG2u"
      },
      "source": [
        "# **Let's Start ....**"
      ]
    },
    {
      "cell_type": "markdown",
      "metadata": {
        "id": "bK66waVmum60"
      },
      "source": []
    },
    {
      "cell_type": "code",
      "execution_count": null,
      "metadata": {
        "id": "ctYoWTOBYtcR"
      },
      "outputs": [],
      "source": [
        "import numpy as np\n",
        "import pandas as pd\n",
        "import random\n",
        "import time\n",
        "import matplotlib.pyplot as plt\n",
        "from sklearn.model_selection import train_test_split\n",
        "from sklearn.linear_model import LogisticRegression\n",
        "from sklearn.metrics import accuracy_score, classification_report\n",
        "from sklearn.preprocessing import StandardScaler\n",
        "from sklearn.decomposition import TruncatedSVD\n",
        "from sklearn.linear_model import SGDRegressor\n",
        "from sklearn.preprocessing import PolynomialFeatures\n",
        "from sklearn.linear_model import Ridge\n",
        "from sklearn.linear_model import Lasso\n",
        "import yfinance as yf\n",
        "from sklearn.linear_model import LinearRegression\n",
        "from sklearn.metrics import r2_score, mean_absolute_error, mean_squared_error\n",
        "from sklearn.preprocessing import StandardScaler\n",
        "from sklearn.linear_model import ElasticNet"
      ]
    },
    {
      "cell_type": "markdown",
      "metadata": {
        "id": "1VpL6BwIXcMy"
      },
      "source": [
        "# **LOADING THE DATA SET**"
      ]
    },
    {
      "cell_type": "code",
      "execution_count": null,
      "metadata": {
        "colab": {
          "base_uri": "https://localhost:8080/",
          "height": 423
        },
        "id": "SU8PLLDcbkfx",
        "outputId": "f7077259-f639-4f56-e947-1e336d9a15e7"
      },
      "outputs": [
        {
          "output_type": "execute_result",
          "data": {
            "text/plain": [
              "            Date        Open        High         Low       Close   Adj Close  \\\n",
              "0     2004-08-19    2.490664    2.591785    2.390042    2.499133    2.499133   \n",
              "1     2004-08-20    2.515820    2.716817    2.503118    2.697639    2.697639   \n",
              "2     2004-08-23    2.758411    2.826406    2.716070    2.724787    2.724787   \n",
              "3     2004-08-24    2.770615    2.779581    2.579581    2.611960    2.611960   \n",
              "4     2004-08-25    2.614201    2.689918    2.587302    2.640104    2.640104   \n",
              "...          ...         ...         ...         ...         ...         ...   \n",
              "4837  2023-11-06  130.220001  131.559998  129.929993  131.449997  131.449997   \n",
              "4838  2023-11-07  131.979996  133.279999  131.139999  132.399994  132.399994   \n",
              "4839  2023-11-08  132.360001  133.539993  132.160004  133.259995  133.259995   \n",
              "4840  2023-11-09  133.360001  133.960007  131.509995  131.690002  131.690002   \n",
              "4841  2023-11-10  131.529999  134.270004  130.869995  134.059998  134.059998   \n",
              "\n",
              "         Volume  \n",
              "0     897427216  \n",
              "1     458857488  \n",
              "2     366857939  \n",
              "3     306396159  \n",
              "4     184645512  \n",
              "...         ...  \n",
              "4837   15360400  \n",
              "4838   19223800  \n",
              "4839   15093600  \n",
              "4840   17976500  \n",
              "4841   20872900  \n",
              "\n",
              "[4842 rows x 7 columns]"
            ],
            "text/html": [
              "\n",
              "  <div id=\"df-432eb4d2-13ff-4105-aded-e3f53ac9c271\" class=\"colab-df-container\">\n",
              "    <div>\n",
              "<style scoped>\n",
              "    .dataframe tbody tr th:only-of-type {\n",
              "        vertical-align: middle;\n",
              "    }\n",
              "\n",
              "    .dataframe tbody tr th {\n",
              "        vertical-align: top;\n",
              "    }\n",
              "\n",
              "    .dataframe thead th {\n",
              "        text-align: right;\n",
              "    }\n",
              "</style>\n",
              "<table border=\"1\" class=\"dataframe\">\n",
              "  <thead>\n",
              "    <tr style=\"text-align: right;\">\n",
              "      <th></th>\n",
              "      <th>Date</th>\n",
              "      <th>Open</th>\n",
              "      <th>High</th>\n",
              "      <th>Low</th>\n",
              "      <th>Close</th>\n",
              "      <th>Adj Close</th>\n",
              "      <th>Volume</th>\n",
              "    </tr>\n",
              "  </thead>\n",
              "  <tbody>\n",
              "    <tr>\n",
              "      <th>0</th>\n",
              "      <td>2004-08-19</td>\n",
              "      <td>2.490664</td>\n",
              "      <td>2.591785</td>\n",
              "      <td>2.390042</td>\n",
              "      <td>2.499133</td>\n",
              "      <td>2.499133</td>\n",
              "      <td>897427216</td>\n",
              "    </tr>\n",
              "    <tr>\n",
              "      <th>1</th>\n",
              "      <td>2004-08-20</td>\n",
              "      <td>2.515820</td>\n",
              "      <td>2.716817</td>\n",
              "      <td>2.503118</td>\n",
              "      <td>2.697639</td>\n",
              "      <td>2.697639</td>\n",
              "      <td>458857488</td>\n",
              "    </tr>\n",
              "    <tr>\n",
              "      <th>2</th>\n",
              "      <td>2004-08-23</td>\n",
              "      <td>2.758411</td>\n",
              "      <td>2.826406</td>\n",
              "      <td>2.716070</td>\n",
              "      <td>2.724787</td>\n",
              "      <td>2.724787</td>\n",
              "      <td>366857939</td>\n",
              "    </tr>\n",
              "    <tr>\n",
              "      <th>3</th>\n",
              "      <td>2004-08-24</td>\n",
              "      <td>2.770615</td>\n",
              "      <td>2.779581</td>\n",
              "      <td>2.579581</td>\n",
              "      <td>2.611960</td>\n",
              "      <td>2.611960</td>\n",
              "      <td>306396159</td>\n",
              "    </tr>\n",
              "    <tr>\n",
              "      <th>4</th>\n",
              "      <td>2004-08-25</td>\n",
              "      <td>2.614201</td>\n",
              "      <td>2.689918</td>\n",
              "      <td>2.587302</td>\n",
              "      <td>2.640104</td>\n",
              "      <td>2.640104</td>\n",
              "      <td>184645512</td>\n",
              "    </tr>\n",
              "    <tr>\n",
              "      <th>...</th>\n",
              "      <td>...</td>\n",
              "      <td>...</td>\n",
              "      <td>...</td>\n",
              "      <td>...</td>\n",
              "      <td>...</td>\n",
              "      <td>...</td>\n",
              "      <td>...</td>\n",
              "    </tr>\n",
              "    <tr>\n",
              "      <th>4837</th>\n",
              "      <td>2023-11-06</td>\n",
              "      <td>130.220001</td>\n",
              "      <td>131.559998</td>\n",
              "      <td>129.929993</td>\n",
              "      <td>131.449997</td>\n",
              "      <td>131.449997</td>\n",
              "      <td>15360400</td>\n",
              "    </tr>\n",
              "    <tr>\n",
              "      <th>4838</th>\n",
              "      <td>2023-11-07</td>\n",
              "      <td>131.979996</td>\n",
              "      <td>133.279999</td>\n",
              "      <td>131.139999</td>\n",
              "      <td>132.399994</td>\n",
              "      <td>132.399994</td>\n",
              "      <td>19223800</td>\n",
              "    </tr>\n",
              "    <tr>\n",
              "      <th>4839</th>\n",
              "      <td>2023-11-08</td>\n",
              "      <td>132.360001</td>\n",
              "      <td>133.539993</td>\n",
              "      <td>132.160004</td>\n",
              "      <td>133.259995</td>\n",
              "      <td>133.259995</td>\n",
              "      <td>15093600</td>\n",
              "    </tr>\n",
              "    <tr>\n",
              "      <th>4840</th>\n",
              "      <td>2023-11-09</td>\n",
              "      <td>133.360001</td>\n",
              "      <td>133.960007</td>\n",
              "      <td>131.509995</td>\n",
              "      <td>131.690002</td>\n",
              "      <td>131.690002</td>\n",
              "      <td>17976500</td>\n",
              "    </tr>\n",
              "    <tr>\n",
              "      <th>4841</th>\n",
              "      <td>2023-11-10</td>\n",
              "      <td>131.529999</td>\n",
              "      <td>134.270004</td>\n",
              "      <td>130.869995</td>\n",
              "      <td>134.059998</td>\n",
              "      <td>134.059998</td>\n",
              "      <td>20872900</td>\n",
              "    </tr>\n",
              "  </tbody>\n",
              "</table>\n",
              "<p>4842 rows × 7 columns</p>\n",
              "</div>\n",
              "    <div class=\"colab-df-buttons\">\n",
              "\n",
              "  <div class=\"colab-df-container\">\n",
              "    <button class=\"colab-df-convert\" onclick=\"convertToInteractive('df-432eb4d2-13ff-4105-aded-e3f53ac9c271')\"\n",
              "            title=\"Convert this dataframe to an interactive table.\"\n",
              "            style=\"display:none;\">\n",
              "\n",
              "  <svg xmlns=\"http://www.w3.org/2000/svg\" height=\"24px\" viewBox=\"0 -960 960 960\">\n",
              "    <path d=\"M120-120v-720h720v720H120Zm60-500h600v-160H180v160Zm220 220h160v-160H400v160Zm0 220h160v-160H400v160ZM180-400h160v-160H180v160Zm440 0h160v-160H620v160ZM180-180h160v-160H180v160Zm440 0h160v-160H620v160Z\"/>\n",
              "  </svg>\n",
              "    </button>\n",
              "\n",
              "  <style>\n",
              "    .colab-df-container {\n",
              "      display:flex;\n",
              "      gap: 12px;\n",
              "    }\n",
              "\n",
              "    .colab-df-convert {\n",
              "      background-color: #E8F0FE;\n",
              "      border: none;\n",
              "      border-radius: 50%;\n",
              "      cursor: pointer;\n",
              "      display: none;\n",
              "      fill: #1967D2;\n",
              "      height: 32px;\n",
              "      padding: 0 0 0 0;\n",
              "      width: 32px;\n",
              "    }\n",
              "\n",
              "    .colab-df-convert:hover {\n",
              "      background-color: #E2EBFA;\n",
              "      box-shadow: 0px 1px 2px rgba(60, 64, 67, 0.3), 0px 1px 3px 1px rgba(60, 64, 67, 0.15);\n",
              "      fill: #174EA6;\n",
              "    }\n",
              "\n",
              "    .colab-df-buttons div {\n",
              "      margin-bottom: 4px;\n",
              "    }\n",
              "\n",
              "    [theme=dark] .colab-df-convert {\n",
              "      background-color: #3B4455;\n",
              "      fill: #D2E3FC;\n",
              "    }\n",
              "\n",
              "    [theme=dark] .colab-df-convert:hover {\n",
              "      background-color: #434B5C;\n",
              "      box-shadow: 0px 1px 3px 1px rgba(0, 0, 0, 0.15);\n",
              "      filter: drop-shadow(0px 1px 2px rgba(0, 0, 0, 0.3));\n",
              "      fill: #FFFFFF;\n",
              "    }\n",
              "  </style>\n",
              "\n",
              "    <script>\n",
              "      const buttonEl =\n",
              "        document.querySelector('#df-432eb4d2-13ff-4105-aded-e3f53ac9c271 button.colab-df-convert');\n",
              "      buttonEl.style.display =\n",
              "        google.colab.kernel.accessAllowed ? 'block' : 'none';\n",
              "\n",
              "      async function convertToInteractive(key) {\n",
              "        const element = document.querySelector('#df-432eb4d2-13ff-4105-aded-e3f53ac9c271');\n",
              "        const dataTable =\n",
              "          await google.colab.kernel.invokeFunction('convertToInteractive',\n",
              "                                                    [key], {});\n",
              "        if (!dataTable) return;\n",
              "\n",
              "        const docLinkHtml = 'Like what you see? Visit the ' +\n",
              "          '<a target=\"_blank\" href=https://colab.research.google.com/notebooks/data_table.ipynb>data table notebook</a>'\n",
              "          + ' to learn more about interactive tables.';\n",
              "        element.innerHTML = '';\n",
              "        dataTable['output_type'] = 'display_data';\n",
              "        await google.colab.output.renderOutput(dataTable, element);\n",
              "        const docLink = document.createElement('div');\n",
              "        docLink.innerHTML = docLinkHtml;\n",
              "        element.appendChild(docLink);\n",
              "      }\n",
              "    </script>\n",
              "  </div>\n",
              "\n",
              "\n",
              "<div id=\"df-3b658676-486c-4631-989d-8a3386bdb983\">\n",
              "  <button class=\"colab-df-quickchart\" onclick=\"quickchart('df-3b658676-486c-4631-989d-8a3386bdb983')\"\n",
              "            title=\"Suggest charts\"\n",
              "            style=\"display:none;\">\n",
              "\n",
              "<svg xmlns=\"http://www.w3.org/2000/svg\" height=\"24px\"viewBox=\"0 0 24 24\"\n",
              "     width=\"24px\">\n",
              "    <g>\n",
              "        <path d=\"M19 3H5c-1.1 0-2 .9-2 2v14c0 1.1.9 2 2 2h14c1.1 0 2-.9 2-2V5c0-1.1-.9-2-2-2zM9 17H7v-7h2v7zm4 0h-2V7h2v10zm4 0h-2v-4h2v4z\"/>\n",
              "    </g>\n",
              "</svg>\n",
              "  </button>\n",
              "\n",
              "<style>\n",
              "  .colab-df-quickchart {\n",
              "      --bg-color: #E8F0FE;\n",
              "      --fill-color: #1967D2;\n",
              "      --hover-bg-color: #E2EBFA;\n",
              "      --hover-fill-color: #174EA6;\n",
              "      --disabled-fill-color: #AAA;\n",
              "      --disabled-bg-color: #DDD;\n",
              "  }\n",
              "\n",
              "  [theme=dark] .colab-df-quickchart {\n",
              "      --bg-color: #3B4455;\n",
              "      --fill-color: #D2E3FC;\n",
              "      --hover-bg-color: #434B5C;\n",
              "      --hover-fill-color: #FFFFFF;\n",
              "      --disabled-bg-color: #3B4455;\n",
              "      --disabled-fill-color: #666;\n",
              "  }\n",
              "\n",
              "  .colab-df-quickchart {\n",
              "    background-color: var(--bg-color);\n",
              "    border: none;\n",
              "    border-radius: 50%;\n",
              "    cursor: pointer;\n",
              "    display: none;\n",
              "    fill: var(--fill-color);\n",
              "    height: 32px;\n",
              "    padding: 0;\n",
              "    width: 32px;\n",
              "  }\n",
              "\n",
              "  .colab-df-quickchart:hover {\n",
              "    background-color: var(--hover-bg-color);\n",
              "    box-shadow: 0 1px 2px rgba(60, 64, 67, 0.3), 0 1px 3px 1px rgba(60, 64, 67, 0.15);\n",
              "    fill: var(--button-hover-fill-color);\n",
              "  }\n",
              "\n",
              "  .colab-df-quickchart-complete:disabled,\n",
              "  .colab-df-quickchart-complete:disabled:hover {\n",
              "    background-color: var(--disabled-bg-color);\n",
              "    fill: var(--disabled-fill-color);\n",
              "    box-shadow: none;\n",
              "  }\n",
              "\n",
              "  .colab-df-spinner {\n",
              "    border: 2px solid var(--fill-color);\n",
              "    border-color: transparent;\n",
              "    border-bottom-color: var(--fill-color);\n",
              "    animation:\n",
              "      spin 1s steps(1) infinite;\n",
              "  }\n",
              "\n",
              "  @keyframes spin {\n",
              "    0% {\n",
              "      border-color: transparent;\n",
              "      border-bottom-color: var(--fill-color);\n",
              "      border-left-color: var(--fill-color);\n",
              "    }\n",
              "    20% {\n",
              "      border-color: transparent;\n",
              "      border-left-color: var(--fill-color);\n",
              "      border-top-color: var(--fill-color);\n",
              "    }\n",
              "    30% {\n",
              "      border-color: transparent;\n",
              "      border-left-color: var(--fill-color);\n",
              "      border-top-color: var(--fill-color);\n",
              "      border-right-color: var(--fill-color);\n",
              "    }\n",
              "    40% {\n",
              "      border-color: transparent;\n",
              "      border-right-color: var(--fill-color);\n",
              "      border-top-color: var(--fill-color);\n",
              "    }\n",
              "    60% {\n",
              "      border-color: transparent;\n",
              "      border-right-color: var(--fill-color);\n",
              "    }\n",
              "    80% {\n",
              "      border-color: transparent;\n",
              "      border-right-color: var(--fill-color);\n",
              "      border-bottom-color: var(--fill-color);\n",
              "    }\n",
              "    90% {\n",
              "      border-color: transparent;\n",
              "      border-bottom-color: var(--fill-color);\n",
              "    }\n",
              "  }\n",
              "</style>\n",
              "\n",
              "  <script>\n",
              "    async function quickchart(key) {\n",
              "      const quickchartButtonEl =\n",
              "        document.querySelector('#' + key + ' button');\n",
              "      quickchartButtonEl.disabled = true;  // To prevent multiple clicks.\n",
              "      quickchartButtonEl.classList.add('colab-df-spinner');\n",
              "      try {\n",
              "        const charts = await google.colab.kernel.invokeFunction(\n",
              "            'suggestCharts', [key], {});\n",
              "      } catch (error) {\n",
              "        console.error('Error during call to suggestCharts:', error);\n",
              "      }\n",
              "      quickchartButtonEl.classList.remove('colab-df-spinner');\n",
              "      quickchartButtonEl.classList.add('colab-df-quickchart-complete');\n",
              "    }\n",
              "    (() => {\n",
              "      let quickchartButtonEl =\n",
              "        document.querySelector('#df-3b658676-486c-4631-989d-8a3386bdb983 button');\n",
              "      quickchartButtonEl.style.display =\n",
              "        google.colab.kernel.accessAllowed ? 'block' : 'none';\n",
              "    })();\n",
              "  </script>\n",
              "</div>\n",
              "\n",
              "  <div id=\"id_cfd62424-0693-4c85-8dfc-0de207d2fd5c\">\n",
              "    <style>\n",
              "      .colab-df-generate {\n",
              "        background-color: #E8F0FE;\n",
              "        border: none;\n",
              "        border-radius: 50%;\n",
              "        cursor: pointer;\n",
              "        display: none;\n",
              "        fill: #1967D2;\n",
              "        height: 32px;\n",
              "        padding: 0 0 0 0;\n",
              "        width: 32px;\n",
              "      }\n",
              "\n",
              "      .colab-df-generate:hover {\n",
              "        background-color: #E2EBFA;\n",
              "        box-shadow: 0px 1px 2px rgba(60, 64, 67, 0.3), 0px 1px 3px 1px rgba(60, 64, 67, 0.15);\n",
              "        fill: #174EA6;\n",
              "      }\n",
              "\n",
              "      [theme=dark] .colab-df-generate {\n",
              "        background-color: #3B4455;\n",
              "        fill: #D2E3FC;\n",
              "      }\n",
              "\n",
              "      [theme=dark] .colab-df-generate:hover {\n",
              "        background-color: #434B5C;\n",
              "        box-shadow: 0px 1px 3px 1px rgba(0, 0, 0, 0.15);\n",
              "        filter: drop-shadow(0px 1px 2px rgba(0, 0, 0, 0.3));\n",
              "        fill: #FFFFFF;\n",
              "      }\n",
              "    </style>\n",
              "    <button class=\"colab-df-generate\" onclick=\"generateWithVariable('df')\"\n",
              "            title=\"Generate code using this dataframe.\"\n",
              "            style=\"display:none;\">\n",
              "\n",
              "  <svg xmlns=\"http://www.w3.org/2000/svg\" height=\"24px\"viewBox=\"0 0 24 24\"\n",
              "       width=\"24px\">\n",
              "    <path d=\"M7,19H8.4L18.45,9,17,7.55,7,17.6ZM5,21V16.75L18.45,3.32a2,2,0,0,1,2.83,0l1.4,1.43a1.91,1.91,0,0,1,.58,1.4,1.91,1.91,0,0,1-.58,1.4L9.25,21ZM18.45,9,17,7.55Zm-12,3A5.31,5.31,0,0,0,4.9,8.1,5.31,5.31,0,0,0,1,6.5,5.31,5.31,0,0,0,4.9,4.9,5.31,5.31,0,0,0,6.5,1,5.31,5.31,0,0,0,8.1,4.9,5.31,5.31,0,0,0,12,6.5,5.46,5.46,0,0,0,6.5,12Z\"/>\n",
              "  </svg>\n",
              "    </button>\n",
              "    <script>\n",
              "      (() => {\n",
              "      const buttonEl =\n",
              "        document.querySelector('#id_cfd62424-0693-4c85-8dfc-0de207d2fd5c button.colab-df-generate');\n",
              "      buttonEl.style.display =\n",
              "        google.colab.kernel.accessAllowed ? 'block' : 'none';\n",
              "\n",
              "      buttonEl.onclick = () => {\n",
              "        google.colab.notebook.generateWithVariable('df');\n",
              "      }\n",
              "      })();\n",
              "    </script>\n",
              "  </div>\n",
              "\n",
              "    </div>\n",
              "  </div>\n"
            ],
            "application/vnd.google.colaboratory.intrinsic+json": {
              "type": "dataframe",
              "variable_name": "df",
              "summary": "{\n  \"name\": \"df\",\n  \"rows\": 4842,\n  \"fields\": [\n    {\n      \"column\": \"Date\",\n      \"properties\": {\n        \"dtype\": \"object\",\n        \"num_unique_values\": 4842,\n        \"samples\": [\n          \"2023-09-27\",\n          \"2016-11-07\",\n          \"2015-04-30\"\n        ],\n        \"semantic_type\": \"\",\n        \"description\": \"\"\n      }\n    },\n    {\n      \"column\": \"Open\",\n      \"properties\": {\n        \"dtype\": \"number\",\n        \"std\": 38.267894906864065,\n        \"min\": 2.470489978790283,\n        \"max\": 151.86349487304688,\n        \"num_unique_values\": 4699,\n        \"samples\": [\n          54.84749984741211,\n          13.39902687072754,\n          10.834389686584473\n        ],\n        \"semantic_type\": \"\",\n        \"description\": \"\"\n      }\n    },\n    {\n      \"column\": \"High\",\n      \"properties\": {\n        \"dtype\": \"number\",\n        \"std\": 38.7082311071834,\n        \"min\": 2.5340020656585693,\n        \"max\": 152.10000610351562,\n        \"num_unique_values\": 4697,\n        \"samples\": [\n          15.42593002319336,\n          60.95349884033203,\n          118.08499908447266\n        ],\n        \"semantic_type\": \"\",\n        \"description\": \"\"\n      }\n    },\n    {\n      \"column\": \"Low\",\n      \"properties\": {\n        \"dtype\": \"number\",\n        \"std\": 37.871643682265045,\n        \"min\": 2.3900420665740967,\n        \"max\": 149.8874969482422,\n        \"num_unique_values\": 4728,\n        \"samples\": [\n          77.25150299072266,\n          36.96500015258789,\n          13.286698341369627\n        ],\n        \"semantic_type\": \"\",\n        \"description\": \"\"\n      }\n    },\n    {\n      \"column\": \"Close\",\n      \"properties\": {\n        \"dtype\": \"number\",\n        \"std\": 38.29520418695604,\n        \"min\": 2.490912914276123,\n        \"max\": 150.70899963378906,\n        \"num_unique_values\": 4751,\n        \"samples\": [\n          73.8115005493164,\n          7.72529411315918,\n          8.920812606811523\n        ],\n        \"semantic_type\": \"\",\n        \"description\": \"\"\n      }\n    },\n    {\n      \"column\": \"Adj Close\",\n      \"properties\": {\n        \"dtype\": \"number\",\n        \"std\": 38.29520418695604,\n        \"min\": 2.490912914276123,\n        \"max\": 150.70899963378906,\n        \"num_unique_values\": 4751,\n        \"samples\": [\n          73.8115005493164,\n          7.72529411315918,\n          8.920812606811523\n        ],\n        \"semantic_type\": \"\",\n        \"description\": \"\"\n      }\n    },\n    {\n      \"column\": \"Volume\",\n      \"properties\": {\n        \"dtype\": \"number\",\n        \"std\": 151383997,\n        \"min\": 158434,\n        \"max\": 1650832619,\n        \"num_unique_values\": 4731,\n        \"samples\": [\n          142953825,\n          26122000,\n          428307406\n        ],\n        \"semantic_type\": \"\",\n        \"description\": \"\"\n      }\n    }\n  ]\n}"
            }
          },
          "metadata": {},
          "execution_count": 2
        }
      ],
      "source": [
        "df = pd.read_csv(\"google_stock_price.csv\")\n",
        "df"
      ]
    },
    {
      "cell_type": "code",
      "execution_count": null,
      "metadata": {
        "colab": {
          "base_uri": "https://localhost:8080/",
          "height": 489
        },
        "id": "s_NS2_AjWkwE",
        "outputId": "05cf1cc3-b434-4754-88c6-be5cc708a9c6"
      },
      "outputs": [
        {
          "output_type": "execute_result",
          "data": {
            "text/plain": [
              "<Axes: title={'center': 'distribution of the closing price'}, xlabel='values of closing price', ylabel='Frequency'>"
            ]
          },
          "metadata": {},
          "execution_count": 3
        },
        {
          "output_type": "display_data",
          "data": {
            "text/plain": [
              "<Figure size 640x480 with 1 Axes>"
            ],
            "image/png": "[encoded data removed]"
          },
          "metadata": {}
        }
      ],
      "source": [
        "df['Close'].plot(kind='hist', bins=50, xlabel = 'values of closing price', ylabel = 'Frequency',title = 'distribution of the closing price' )"
      ]
    },
    {
      "cell_type": "code",
      "execution_count": null,
      "metadata": {
        "colab": {
          "base_uri": "https://localhost:8080/",
          "height": 489
        },
        "id": "cWh6gZinK05m",
        "outputId": "7349e29e-3c6a-46c2-a722-62487dae2730"
      },
      "outputs": [
        {
          "output_type": "execute_result",
          "data": {
            "text/plain": [
              "<Axes: title={'center': 'distribution of the low price'}, xlabel='values of low price', ylabel='Frequency'>"
            ]
          },
          "metadata": {},
          "execution_count": 4
        },
        {
          "output_type": "display_data",
          "data": {
            "text/plain": [
              "<Figure size 640x480 with 1 Axes>"
            ],
            "image/png": "[encoded data removed]"
          },
          "metadata": {}
        }
      ],
      "source": [
        "df['Low'].plot(kind = 'hist', xlabel = 'values of low price', ylabel = 'Frequency',title = 'distribution of the low price')"
      ]
    },
    {
      "cell_type": "code",
      "execution_count": null,
      "metadata": {
        "colab": {
          "base_uri": "https://localhost:8080/",
          "height": 469
        },
        "id": "iyanSPuIWLM7",
        "outputId": "28277eb6-d50c-4032-9377-9487b2a6f3c8"
      },
      "outputs": [
        {
          "output_type": "execute_result",
          "data": {
            "text/plain": [
              "<Axes: title={'center': 'distribution of High price'}, ylabel='Frequency'>"
            ]
          },
          "metadata": {},
          "execution_count": 5
        },
        {
          "output_type": "display_data",
          "data": {
            "text/plain": [
              "<Figure size 640x480 with 1 Axes>"
            ],
            "image/png": "[encoded data removed]"
          },
          "metadata": {}
        }
      ],
      "source": [
        "df['High'].plot(kind='hist', bins=20, title='distribution of High price')"
      ]
    },
    {
      "cell_type": "code",
      "execution_count": null,
      "metadata": {
        "colab": {
          "base_uri": "https://localhost:8080/",
          "height": 469
        },
        "id": "vj2XLWblWAOt",
        "outputId": "a25c45ee-0097-4fce-8ad5-9435b9b9d2ec"
      },
      "outputs": [
        {
          "output_type": "execute_result",
          "data": {
            "text/plain": [
              "<Axes: title={'center': 'distribution of Open price'}, ylabel='Frequency'>"
            ]
          },
          "metadata": {},
          "execution_count": 6
        },
        {
          "output_type": "display_data",
          "data": {
            "text/plain": [
              "<Figure size 640x480 with 1 Axes>"
            ],
            "image/png": "[encoded data removed]"
          },
          "metadata": {}
        }
      ],
      "source": [
        "df['Open'].plot(kind='hist', bins=20, title='distribution of Open price')"
      ]
    },
    {
      "cell_type": "markdown",
      "metadata": {
        "id": "kp0sQUYaXm7b"
      },
      "source": [
        "# **DATA INFORMATION**"
      ]
    },
    {
      "cell_type": "code",
      "execution_count": null,
      "metadata": {
        "colab": {
          "base_uri": "https://localhost:8080/"
        },
        "id": "Eubc0NGZVXQO",
        "outputId": "1e205576-e3ff-458f-8559-74989e2699de"
      },
      "outputs": [
        {
          "output_type": "stream",
          "name": "stdout",
          "text": [
            "<class 'pandas.core.frame.DataFrame'>\n",
            "RangeIndex: 4842 entries, 0 to 4841\n",
            "Data columns (total 7 columns):\n",
            " #   Column     Non-Null Count  Dtype  \n",
            "---  ------     --------------  -----  \n",
            " 0   Date       4842 non-null   object \n",
            " 1   Open       4842 non-null   float64\n",
            " 2   High       4842 non-null   float64\n",
            " 3   Low        4842 non-null   float64\n",
            " 4   Close      4842 non-null   float64\n",
            " 5   Adj Close  4842 non-null   float64\n",
            " 6   Volume     4842 non-null   int64  \n",
            "dtypes: float64(5), int64(1), object(1)\n",
            "memory usage: 264.9+ KB\n"
          ]
        }
      ],
      "source": [
        "df.info()"
      ]
    },
    {
      "cell_type": "markdown",
      "metadata": {
        "id": "mhhSFuGPXy6B"
      },
      "source": [
        "# **NAN VALUE CHECKING**"
      ]
    },
    {
      "cell_type": "code",
      "execution_count": null,
      "metadata": {
        "colab": {
          "base_uri": "https://localhost:8080/"
        },
        "id": "4FaJmg4F7teH",
        "outputId": "4dad1880-aca5-43df-99f0-23b370f67231"
      },
      "outputs": [
        {
          "output_type": "execute_result",
          "data": {
            "text/plain": [
              "0"
            ]
          },
          "metadata": {},
          "execution_count": 8
        }
      ],
      "source": [
        "df['Close'].isna().sum()"
      ]
    },
    {
      "cell_type": "code",
      "execution_count": null,
      "metadata": {
        "colab": {
          "base_uri": "https://localhost:8080/",
          "height": 303
        },
        "id": "bneYDIXKVUm1",
        "outputId": "202715d9-5c2b-483a-c26f-055e7a77c15a"
      },
      "outputs": [
        {
          "output_type": "execute_result",
          "data": {
            "text/plain": [
              "Date         0\n",
              "Open         0\n",
              "High         0\n",
              "Low          0\n",
              "Close        0\n",
              "Adj Close    0\n",
              "Volume       0\n",
              "dtype: int64"
            ],
            "text/html": [
              "<div>\n",
              "<style scoped>\n",
              "    .dataframe tbody tr th:only-of-type {\n",
              "        vertical-align: middle;\n",
              "    }\n",
              "\n",
              "    .dataframe tbody tr th {\n",
              "        vertical-align: top;\n",
              "    }\n",
              "\n",
              "    .dataframe thead th {\n",
              "        text-align: right;\n",
              "    }\n",
              "</style>\n",
              "<table border=\"1\" class=\"dataframe\">\n",
              "  <thead>\n",
              "    <tr style=\"text-align: right;\">\n",
              "      <th></th>\n",
              "      <th>0</th>\n",
              "    </tr>\n",
              "  </thead>\n",
              "  <tbody>\n",
              "    <tr>\n",
              "      <th>Date</th>\n",
              "      <td>0</td>\n",
              "    </tr>\n",
              "    <tr>\n",
              "      <th>Open</th>\n",
              "      <td>0</td>\n",
              "    </tr>\n",
              "    <tr>\n",
              "      <th>High</th>\n",
              "      <td>0</td>\n",
              "    </tr>\n",
              "    <tr>\n",
              "      <th>Low</th>\n",
              "      <td>0</td>\n",
              "    </tr>\n",
              "    <tr>\n",
              "      <th>Close</th>\n",
              "      <td>0</td>\n",
              "    </tr>\n",
              "    <tr>\n",
              "      <th>Adj Close</th>\n",
              "      <td>0</td>\n",
              "    </tr>\n",
              "    <tr>\n",
              "      <th>Volume</th>\n",
              "      <td>0</td>\n",
              "    </tr>\n",
              "  </tbody>\n",
              "</table>\n",
              "</div><br><label><b>dtype:</b> int64</label>"
            ]
          },
          "metadata": {},
          "execution_count": 9
        }
      ],
      "source": [
        "df.isna().sum()"
      ]
    },
    {
      "cell_type": "code",
      "execution_count": null,
      "metadata": {
        "colab": {
          "base_uri": "https://localhost:8080/",
          "height": 303
        },
        "id": "QLZ1903aWNo0",
        "outputId": "38a7195f-f023-40ee-ebf5-85f3afa0ae1b"
      },
      "outputs": [
        {
          "output_type": "execute_result",
          "data": {
            "text/plain": [
              "Date          object\n",
              "Open         float64\n",
              "High         float64\n",
              "Low          float64\n",
              "Close        float64\n",
              "Adj Close    float64\n",
              "Volume         int64\n",
              "dtype: object"
            ],
            "text/html": [
              "<div>\n",
              "<style scoped>\n",
              "    .dataframe tbody tr th:only-of-type {\n",
              "        vertical-align: middle;\n",
              "    }\n",
              "\n",
              "    .dataframe tbody tr th {\n",
              "        vertical-align: top;\n",
              "    }\n",
              "\n",
              "    .dataframe thead th {\n",
              "        text-align: right;\n",
              "    }\n",
              "</style>\n",
              "<table border=\"1\" class=\"dataframe\">\n",
              "  <thead>\n",
              "    <tr style=\"text-align: right;\">\n",
              "      <th></th>\n",
              "      <th>0</th>\n",
              "    </tr>\n",
              "  </thead>\n",
              "  <tbody>\n",
              "    <tr>\n",
              "      <th>Date</th>\n",
              "      <td>object</td>\n",
              "    </tr>\n",
              "    <tr>\n",
              "      <th>Open</th>\n",
              "      <td>float64</td>\n",
              "    </tr>\n",
              "    <tr>\n",
              "      <th>High</th>\n",
              "      <td>float64</td>\n",
              "    </tr>\n",
              "    <tr>\n",
              "      <th>Low</th>\n",
              "      <td>float64</td>\n",
              "    </tr>\n",
              "    <tr>\n",
              "      <th>Close</th>\n",
              "      <td>float64</td>\n",
              "    </tr>\n",
              "    <tr>\n",
              "      <th>Adj Close</th>\n",
              "      <td>float64</td>\n",
              "    </tr>\n",
              "    <tr>\n",
              "      <th>Volume</th>\n",
              "      <td>int64</td>\n",
              "    </tr>\n",
              "  </tbody>\n",
              "</table>\n",
              "</div><br><label><b>dtype:</b> object</label>"
            ]
          },
          "metadata": {},
          "execution_count": 10
        }
      ],
      "source": [
        "df.dtypes"
      ]
    },
    {
      "cell_type": "code",
      "execution_count": null,
      "metadata": {
        "colab": {
          "base_uri": "https://localhost:8080/",
          "height": 303
        },
        "id": "sAm0MPjjYvVy",
        "outputId": "ec9671db-89dd-4fd1-c43b-7189090b0536"
      },
      "outputs": [
        {
          "output_type": "execute_result",
          "data": {
            "text/plain": [
              "Date          object\n",
              "Open         float64\n",
              "High         float64\n",
              "Low          float64\n",
              "Close        float64\n",
              "Adj Close    float64\n",
              "Volume         int64\n",
              "dtype: object"
            ],
            "text/html": [
              "<div>\n",
              "<style scoped>\n",
              "    .dataframe tbody tr th:only-of-type {\n",
              "        vertical-align: middle;\n",
              "    }\n",
              "\n",
              "    .dataframe tbody tr th {\n",
              "        vertical-align: top;\n",
              "    }\n",
              "\n",
              "    .dataframe thead th {\n",
              "        text-align: right;\n",
              "    }\n",
              "</style>\n",
              "<table border=\"1\" class=\"dataframe\">\n",
              "  <thead>\n",
              "    <tr style=\"text-align: right;\">\n",
              "      <th></th>\n",
              "      <th>0</th>\n",
              "    </tr>\n",
              "  </thead>\n",
              "  <tbody>\n",
              "    <tr>\n",
              "      <th>Date</th>\n",
              "      <td>object</td>\n",
              "    </tr>\n",
              "    <tr>\n",
              "      <th>Open</th>\n",
              "      <td>float64</td>\n",
              "    </tr>\n",
              "    <tr>\n",
              "      <th>High</th>\n",
              "      <td>float64</td>\n",
              "    </tr>\n",
              "    <tr>\n",
              "      <th>Low</th>\n",
              "      <td>float64</td>\n",
              "    </tr>\n",
              "    <tr>\n",
              "      <th>Close</th>\n",
              "      <td>float64</td>\n",
              "    </tr>\n",
              "    <tr>\n",
              "      <th>Adj Close</th>\n",
              "      <td>float64</td>\n",
              "    </tr>\n",
              "    <tr>\n",
              "      <th>Volume</th>\n",
              "      <td>int64</td>\n",
              "    </tr>\n",
              "  </tbody>\n",
              "</table>\n",
              "</div><br><label><b>dtype:</b> object</label>"
            ]
          },
          "metadata": {},
          "execution_count": 11
        }
      ],
      "source": [
        "df.dtypes"
      ]
    },
    {
      "cell_type": "markdown",
      "metadata": {
        "id": "5Hs4ylwRXrYd"
      },
      "source": [
        "# **DATA DESCRIPTION**\n",
        "\n"
      ]
    },
    {
      "cell_type": "code",
      "execution_count": null,
      "metadata": {
        "colab": {
          "base_uri": "https://localhost:8080/",
          "height": 300
        },
        "id": "flf26OdtWXEi",
        "outputId": "9854473e-a02c-4454-c216-ec08dcc3ff08"
      },
      "outputs": [
        {
          "output_type": "execute_result",
          "data": {
            "text/plain": [
              "              Open         High          Low        Close    Adj Close  \\\n",
              "count  4842.000000  4842.000000  4842.000000  4842.000000  4842.000000   \n",
              "mean     41.164402    41.601906    40.745188    41.181457    41.181457   \n",
              "std      38.267895    38.708231    37.871644    38.295204    38.295204   \n",
              "min       2.470490     2.534002     2.390042     2.490913     2.490913   \n",
              "25%      12.819761    12.949089    12.702388    12.828043    12.828043   \n",
              "50%      26.470161    26.668148    26.259000    26.470153    26.470153   \n",
              "75%      57.197751    57.729501    56.633139    57.315001    57.315001   \n",
              "max     151.863495   152.100006   149.887497   150.709000   150.709000   \n",
              "\n",
              "             Volume  \n",
              "count  4.842000e+03  \n",
              "mean   1.192432e+08  \n",
              "std    1.513840e+08  \n",
              "min    1.584340e+05  \n",
              "25%    2.867350e+07  \n",
              "50%    6.202500e+07  \n",
              "75%    1.469819e+08  \n",
              "max    1.650833e+09  "
            ],
            "text/html": [
              "\n",
              "  <div id=\"df-26bfe12e-52fa-4a0b-94f5-b215a4929e5c\" class=\"colab-df-container\">\n",
              "    <div>\n",
              "<style scoped>\n",
              "    .dataframe tbody tr th:only-of-type {\n",
              "        vertical-align: middle;\n",
              "    }\n",
              "\n",
              "    .dataframe tbody tr th {\n",
              "        vertical-align: top;\n",
              "    }\n",
              "\n",
              "    .dataframe thead th {\n",
              "        text-align: right;\n",
              "    }\n",
              "</style>\n",
              "<table border=\"1\" class=\"dataframe\">\n",
              "  <thead>\n",
              "    <tr style=\"text-align: right;\">\n",
              "      <th></th>\n",
              "      <th>Open</th>\n",
              "      <th>High</th>\n",
              "      <th>Low</th>\n",
              "      <th>Close</th>\n",
              "      <th>Adj Close</th>\n",
              "      <th>Volume</th>\n",
              "    </tr>\n",
              "  </thead>\n",
              "  <tbody>\n",
              "    <tr>\n",
              "      <th>count</th>\n",
              "      <td>4842.000000</td>\n",
              "      <td>4842.000000</td>\n",
              "      <td>4842.000000</td>\n",
              "      <td>4842.000000</td>\n",
              "      <td>4842.000000</td>\n",
              "      <td>4.842000e+03</td>\n",
              "    </tr>\n",
              "    <tr>\n",
              "      <th>mean</th>\n",
              "      <td>41.164402</td>\n",
              "      <td>41.601906</td>\n",
              "      <td>40.745188</td>\n",
              "      <td>41.181457</td>\n",
              "      <td>41.181457</td>\n",
              "      <td>1.192432e+08</td>\n",
              "    </tr>\n",
              "    <tr>\n",
              "      <th>std</th>\n",
              "      <td>38.267895</td>\n",
              "      <td>38.708231</td>\n",
              "      <td>37.871644</td>\n",
              "      <td>38.295204</td>\n",
              "      <td>38.295204</td>\n",
              "      <td>1.513840e+08</td>\n",
              "    </tr>\n",
              "    <tr>\n",
              "      <th>min</th>\n",
              "      <td>2.470490</td>\n",
              "      <td>2.534002</td>\n",
              "      <td>2.390042</td>\n",
              "      <td>2.490913</td>\n",
              "      <td>2.490913</td>\n",
              "      <td>1.584340e+05</td>\n",
              "    </tr>\n",
              "    <tr>\n",
              "      <th>25%</th>\n",
              "      <td>12.819761</td>\n",
              "      <td>12.949089</td>\n",
              "      <td>12.702388</td>\n",
              "      <td>12.828043</td>\n",
              "      <td>12.828043</td>\n",
              "      <td>2.867350e+07</td>\n",
              "    </tr>\n",
              "    <tr>\n",
              "      <th>50%</th>\n",
              "      <td>26.470161</td>\n",
              "      <td>26.668148</td>\n",
              "      <td>26.259000</td>\n",
              "      <td>26.470153</td>\n",
              "      <td>26.470153</td>\n",
              "      <td>6.202500e+07</td>\n",
              "    </tr>\n",
              "    <tr>\n",
              "      <th>75%</th>\n",
              "      <td>57.197751</td>\n",
              "      <td>57.729501</td>\n",
              "      <td>56.633139</td>\n",
              "      <td>57.315001</td>\n",
              "      <td>57.315001</td>\n",
              "      <td>1.469819e+08</td>\n",
              "    </tr>\n",
              "    <tr>\n",
              "      <th>max</th>\n",
              "      <td>151.863495</td>\n",
              "      <td>152.100006</td>\n",
              "      <td>149.887497</td>\n",
              "      <td>150.709000</td>\n",
              "      <td>150.709000</td>\n",
              "      <td>1.650833e+09</td>\n",
              "    </tr>\n",
              "  </tbody>\n",
              "</table>\n",
              "</div>\n",
              "    <div class=\"colab-df-buttons\">\n",
              "\n",
              "  <div class=\"colab-df-container\">\n",
              "    <button class=\"colab-df-convert\" onclick=\"convertToInteractive('df-26bfe12e-52fa-4a0b-94f5-b215a4929e5c')\"\n",
              "            title=\"Convert this dataframe to an interactive table.\"\n",
              "            style=\"display:none;\">\n",
              "\n",
              "  <svg xmlns=\"http://www.w3.org/2000/svg\" height=\"24px\" viewBox=\"0 -960 960 960\">\n",
              "    <path d=\"M120-120v-720h720v720H120Zm60-500h600v-160H180v160Zm220 220h160v-160H400v160Zm0 220h160v-160H400v160ZM180-400h160v-160H180v160Zm440 0h160v-160H620v160ZM180-180h160v-160H180v160Zm440 0h160v-160H620v160Z\"/>\n",
              "  </svg>\n",
              "    </button>\n",
              "\n",
              "  <style>\n",
              "    .colab-df-container {\n",
              "      display:flex;\n",
              "      gap: 12px;\n",
              "    }\n",
              "\n",
              "    .colab-df-convert {\n",
              "      background-color: #E8F0FE;\n",
              "      border: none;\n",
              "      border-radius: 50%;\n",
              "      cursor: pointer;\n",
              "      display: none;\n",
              "      fill: #1967D2;\n",
              "      height: 32px;\n",
              "      padding: 0 0 0 0;\n",
              "      width: 32px;\n",
              "    }\n",
              "\n",
              "    .colab-df-convert:hover {\n",
              "      background-color: #E2EBFA;\n",
              "      box-shadow: 0px 1px 2px rgba(60, 64, 67, 0.3), 0px 1px 3px 1px rgba(60, 64, 67, 0.15);\n",
              "      fill: #174EA6;\n",
              "    }\n",
              "\n",
              "    .colab-df-buttons div {\n",
              "      margin-bottom: 4px;\n",
              "    }\n",
              "\n",
              "    [theme=dark] .colab-df-convert {\n",
              "      background-color: #3B4455;\n",
              "      fill: #D2E3FC;\n",
              "    }\n",
              "\n",
              "    [theme=dark] .colab-df-convert:hover {\n",
              "      background-color: #434B5C;\n",
              "      box-shadow: 0px 1px 3px 1px rgba(0, 0, 0, 0.15);\n",
              "      filter: drop-shadow(0px 1px 2px rgba(0, 0, 0, 0.3));\n",
              "      fill: #FFFFFF;\n",
              "    }\n",
              "  </style>\n",
              "\n",
              "    <script>\n",
              "      const buttonEl =\n",
              "        document.querySelector('#df-26bfe12e-52fa-4a0b-94f5-b215a4929e5c button.colab-df-convert');\n",
              "      buttonEl.style.display =\n",
              "        google.colab.kernel.accessAllowed ? 'block' : 'none';\n",
              "\n",
              "      async function convertToInteractive(key) {\n",
              "        const element = document.querySelector('#df-26bfe12e-52fa-4a0b-94f5-b215a4929e5c');\n",
              "        const dataTable =\n",
              "          await google.colab.kernel.invokeFunction('convertToInteractive',\n",
              "                                                    [key], {});\n",
              "        if (!dataTable) return;\n",
              "\n",
              "        const docLinkHtml = 'Like what you see? Visit the ' +\n",
              "          '<a target=\"_blank\" href=https://colab.research.google.com/notebooks/data_table.ipynb>data table notebook</a>'\n",
              "          + ' to learn more about interactive tables.';\n",
              "        element.innerHTML = '';\n",
              "        dataTable['output_type'] = 'display_data';\n",
              "        await google.colab.output.renderOutput(dataTable, element);\n",
              "        const docLink = document.createElement('div');\n",
              "        docLink.innerHTML = docLinkHtml;\n",
              "        element.appendChild(docLink);\n",
              "      }\n",
              "    </script>\n",
              "  </div>\n",
              "\n",
              "\n",
              "<div id=\"df-af3c7bc9-ca45-45b3-8470-21bbe0a78238\">\n",
              "  <button class=\"colab-df-quickchart\" onclick=\"quickchart('df-af3c7bc9-ca45-45b3-8470-21bbe0a78238')\"\n",
              "            title=\"Suggest charts\"\n",
              "            style=\"display:none;\">\n",
              "\n",
              "<svg xmlns=\"http://www.w3.org/2000/svg\" height=\"24px\"viewBox=\"0 0 24 24\"\n",
              "     width=\"24px\">\n",
              "    <g>\n",
              "        <path d=\"M19 3H5c-1.1 0-2 .9-2 2v14c0 1.1.9 2 2 2h14c1.1 0 2-.9 2-2V5c0-1.1-.9-2-2-2zM9 17H7v-7h2v7zm4 0h-2V7h2v10zm4 0h-2v-4h2v4z\"/>\n",
              "    </g>\n",
              "</svg>\n",
              "  </button>\n",
              "\n",
              "<style>\n",
              "  .colab-df-quickchart {\n",
              "      --bg-color: #E8F0FE;\n",
              "      --fill-color: #1967D2;\n",
              "      --hover-bg-color: #E2EBFA;\n",
              "      --hover-fill-color: #174EA6;\n",
              "      --disabled-fill-color: #AAA;\n",
              "      --disabled-bg-color: #DDD;\n",
              "  }\n",
              "\n",
              "  [theme=dark] .colab-df-quickchart {\n",
              "      --bg-color: #3B4455;\n",
              "      --fill-color: #D2E3FC;\n",
              "      --hover-bg-color: #434B5C;\n",
              "      --hover-fill-color: #FFFFFF;\n",
              "      --disabled-bg-color: #3B4455;\n",
              "      --disabled-fill-color: #666;\n",
              "  }\n",
              "\n",
              "  .colab-df-quickchart {\n",
              "    background-color: var(--bg-color);\n",
              "    border: none;\n",
              "    border-radius: 50%;\n",
              "    cursor: pointer;\n",
              "    display: none;\n",
              "    fill: var(--fill-color);\n",
              "    height: 32px;\n",
              "    padding: 0;\n",
              "    width: 32px;\n",
              "  }\n",
              "\n",
              "  .colab-df-quickchart:hover {\n",
              "    background-color: var(--hover-bg-color);\n",
              "    box-shadow: 0 1px 2px rgba(60, 64, 67, 0.3), 0 1px 3px 1px rgba(60, 64, 67, 0.15);\n",
              "    fill: var(--button-hover-fill-color);\n",
              "  }\n",
              "\n",
              "  .colab-df-quickchart-complete:disabled,\n",
              "  .colab-df-quickchart-complete:disabled:hover {\n",
              "    background-color: var(--disabled-bg-color);\n",
              "    fill: var(--disabled-fill-color);\n",
              "    box-shadow: none;\n",
              "  }\n",
              "\n",
              "  .colab-df-spinner {\n",
              "    border: 2px solid var(--fill-color);\n",
              "    border-color: transparent;\n",
              "    border-bottom-color: var(--fill-color);\n",
              "    animation:\n",
              "      spin 1s steps(1) infinite;\n",
              "  }\n",
              "\n",
              "  @keyframes spin {\n",
              "    0% {\n",
              "      border-color: transparent;\n",
              "      border-bottom-color: var(--fill-color);\n",
              "      border-left-color: var(--fill-color);\n",
              "    }\n",
              "    20% {\n",
              "      border-color: transparent;\n",
              "      border-left-color: var(--fill-color);\n",
              "      border-top-color: var(--fill-color);\n",
              "    }\n",
              "    30% {\n",
              "      border-color: transparent;\n",
              "      border-left-color: var(--fill-color);\n",
              "      border-top-color: var(--fill-color);\n",
              "      border-right-color: var(--fill-color);\n",
              "    }\n",
              "    40% {\n",
              "      border-color: transparent;\n",
              "      border-right-color: var(--fill-color);\n",
              "      border-top-color: var(--fill-color);\n",
              "    }\n",
              "    60% {\n",
              "      border-color: transparent;\n",
              "      border-right-color: var(--fill-color);\n",
              "    }\n",
              "    80% {\n",
              "      border-color: transparent;\n",
              "      border-right-color: var(--fill-color);\n",
              "      border-bottom-color: var(--fill-color);\n",
              "    }\n",
              "    90% {\n",
              "      border-color: transparent;\n",
              "      border-bottom-color: var(--fill-color);\n",
              "    }\n",
              "  }\n",
              "</style>\n",
              "\n",
              "  <script>\n",
              "    async function quickchart(key) {\n",
              "      const quickchartButtonEl =\n",
              "        document.querySelector('#' + key + ' button');\n",
              "      quickchartButtonEl.disabled = true;  // To prevent multiple clicks.\n",
              "      quickchartButtonEl.classList.add('colab-df-spinner');\n",
              "      try {\n",
              "        const charts = await google.colab.kernel.invokeFunction(\n",
              "            'suggestCharts', [key], {});\n",
              "      } catch (error) {\n",
              "        console.error('Error during call to suggestCharts:', error);\n",
              "      }\n",
              "      quickchartButtonEl.classList.remove('colab-df-spinner');\n",
              "      quickchartButtonEl.classList.add('colab-df-quickchart-complete');\n",
              "    }\n",
              "    (() => {\n",
              "      let quickchartButtonEl =\n",
              "        document.querySelector('#df-af3c7bc9-ca45-45b3-8470-21bbe0a78238 button');\n",
              "      quickchartButtonEl.style.display =\n",
              "        google.colab.kernel.accessAllowed ? 'block' : 'none';\n",
              "    })();\n",
              "  </script>\n",
              "</div>\n",
              "\n",
              "    </div>\n",
              "  </div>\n"
            ],
            "application/vnd.google.colaboratory.intrinsic+json": {
              "type": "dataframe",
              "summary": "{\n  \"name\": \"df\",\n  \"rows\": 8,\n  \"fields\": [\n    {\n      \"column\": \"Open\",\n      \"properties\": {\n        \"dtype\": \"number\",\n        \"std\": 1695.8479459448054,\n        \"min\": 2.470489978790283,\n        \"max\": 4842.0,\n        \"num_unique_values\": 8,\n        \"samples\": [\n          41.16440176510801,\n          26.47016143798828,\n          4842.0\n        ],\n        \"semantic_type\": \"\",\n        \"description\": \"\"\n      }\n    },\n    {\n      \"column\": \"High\",\n      \"properties\": {\n        \"dtype\": \"number\",\n        \"std\": 1695.7461347922508,\n        \"min\": 2.5340020656585693,\n        \"max\": 4842.0,\n        \"num_unique_values\": 8,\n        \"samples\": [\n          41.60190558044539,\n          26.668148040771484,\n          4842.0\n        ],\n        \"semantic_type\": \"\",\n        \"description\": \"\"\n      }\n    },\n    {\n      \"column\": \"Low\",\n      \"properties\": {\n        \"dtype\": \"number\",\n        \"std\": 1696.0217703564922,\n        \"min\": 2.3900420665740967,\n        \"max\": 4842.0,\n        \"num_unique_values\": 8,\n        \"samples\": [\n          40.74518837716057,\n          26.258999824523926,\n          4842.0\n        ],\n        \"semantic_type\": \"\",\n        \"description\": \"\"\n      }\n    },\n    {\n      \"column\": \"Close\",\n      \"properties\": {\n        \"dtype\": \"number\",\n        \"std\": 1695.8864661727575,\n        \"min\": 2.490912914276123,\n        \"max\": 4842.0,\n        \"num_unique_values\": 8,\n        \"samples\": [\n          41.181456908712896,\n          26.470152854919434,\n          4842.0\n        ],\n        \"semantic_type\": \"\",\n        \"description\": \"\"\n      }\n    },\n    {\n      \"column\": \"Adj Close\",\n      \"properties\": {\n        \"dtype\": \"number\",\n        \"std\": 1695.8864661727575,\n        \"min\": 2.490912914276123,\n        \"max\": 4842.0,\n        \"num_unique_values\": 8,\n        \"samples\": [\n          41.181456908712896,\n          26.470152854919434,\n          4842.0\n        ],\n        \"semantic_type\": \"\",\n        \"description\": \"\"\n      }\n    },\n    {\n      \"column\": \"Volume\",\n      \"properties\": {\n        \"dtype\": \"number\",\n        \"std\": 561354666.0311537,\n        \"min\": 4842.0,\n        \"max\": 1650832619.0,\n        \"num_unique_values\": 8,\n        \"samples\": [\n          119243199.31701776,\n          62025000.0,\n          4842.0\n        ],\n        \"semantic_type\": \"\",\n        \"description\": \"\"\n      }\n    }\n  ]\n}"
            }
          },
          "metadata": {},
          "execution_count": 12
        }
      ],
      "source": [
        "df.describe()"
      ]
    },
    {
      "cell_type": "markdown",
      "source": [
        "# **HOW MUCH ONE FEATURE IS RELATED TO OTHER ONE ** ****"
      ],
      "metadata": {
        "id": "-PUYY63lLRGD"
      }
    },
    {
      "cell_type": "code",
      "execution_count": null,
      "metadata": {
        "colab": {
          "base_uri": "https://localhost:8080/"
        },
        "id": "vRfEfjkYWesy",
        "outputId": "bd2a4bdc-15c4-40df-db16-8f47dcbe4e7d"
      },
      "outputs": [
        {
          "output_type": "execute_result",
          "data": {
            "text/plain": [
              "0.9999024265636497"
            ]
          },
          "metadata": {},
          "execution_count": 13
        }
      ],
      "source": [
        "df['Open'].corr(df['High'])"
      ]
    },
    {
      "cell_type": "code",
      "source": [
        "df['High'].corr(df['Low'])"
      ],
      "metadata": {
        "colab": {
          "base_uri": "https://localhost:8080/"
        },
        "id": "Qry7EzYyfeXE",
        "outputId": "7655d441-17e1-4ffe-af81-4a5702b291aa"
      },
      "execution_count": null,
      "outputs": [
        {
          "output_type": "execute_result",
          "data": {
            "text/plain": [
              "0.9998741100411522"
            ]
          },
          "metadata": {},
          "execution_count": 14
        }
      ]
    },
    {
      "cell_type": "code",
      "source": [
        "df['Volume'].corr(df['Close'])"
      ],
      "metadata": {
        "colab": {
          "base_uri": "https://localhost:8080/"
        },
        "id": "5--TLDU8fpu8",
        "outputId": "72cc75b7-fa04-49f8-cd71-62cdd3fb4e99"
      },
      "execution_count": null,
      "outputs": [
        {
          "output_type": "execute_result",
          "data": {
            "text/plain": [
              "-0.4717435129237179"
            ]
          },
          "metadata": {},
          "execution_count": 15
        }
      ]
    },
    {
      "cell_type": "markdown",
      "metadata": {
        "id": "idFweOF3X3T1"
      },
      "source": [
        "# **DATA PROCESSING**"
      ]
    },
    {
      "cell_type": "code",
      "execution_count": null,
      "metadata": {
        "id": "NfzwGwzEX2i1"
      },
      "outputs": [],
      "source": [
        "# Define the target column and the feature to drop\n",
        "target_column = 'Close'\n",
        "feature_to_drop = 'Date'\n",
        "\n",
        "# Defining features and target\n",
        "X = df.drop(['Close', 'Date'], axis = 1)\n",
        "Y = df['Close']\n",
        "\n",
        "# Split the data into training and testing sets\n",
        "X_train, X_test, Y_train, Y_test = train_test_split(X, Y, test_size=0.3, random_state=42)\n",
        "\n",
        "# apply feature scaling\n",
        "scaler = StandardScaler()\n",
        "X_train_scaled = scaler.fit_transform(X_train)\n",
        "X_test_scaled = scaler.transform(X_test)"
      ]
    },
    {
      "cell_type": "code",
      "source": [
        "Y.values.reshape(-1,1)"
      ],
      "metadata": {
        "colab": {
          "base_uri": "https://localhost:8080/"
        },
        "id": "dp9Bym9lNUSq",
        "outputId": "24324bd6-62bd-4e8f-f8a1-4e59dff5e4f0"
      },
      "execution_count": null,
      "outputs": [
        {
          "output_type": "execute_result",
          "data": {
            "text/plain": [
              "array([[  2.49913311],\n",
              "       [  2.69763899],\n",
              "       [  2.724787  ],\n",
              "       ...,\n",
              "       [133.25999451],\n",
              "       [131.69000244],\n",
              "       [134.05999756]])"
            ]
          },
          "metadata": {},
          "execution_count": 17
        }
      ]
    },
    {
      "cell_type": "markdown",
      "metadata": {
        "id": "T8yZXPJBPy1h"
      },
      "source": [
        "# **MULTIPLE LINEAR REGRESSION**"
      ]
    },
    {
      "cell_type": "markdown",
      "metadata": {
        "id": "LT92y1kjXZhh"
      },
      "source": [
        "I HAVE APPLIED THE STANDARIZATION (Z-score normalization, mean-centering and scaling by factor of standard deviation) FEATURE SCALING ONLY TO THE FEATURES COLUMNS\n",
        "\n",
        "AND HAVE NOT SCALED THE TARGET COLUMN . using ridge regression"
      ]
    },
    {
      "cell_type": "code",
      "execution_count": null,
      "metadata": {
        "colab": {
          "base_uri": "https://localhost:8080/"
        },
        "id": "ywBZOx1EP36Z",
        "outputId": "794a9af5-3ea5-41db-cf39-620c61c0a220"
      },
      "outputs": [
        {
          "output_type": "stream",
          "name": "stdout",
          "text": [
            "Training data shape: (3389, 5), (3389,)\n",
            "Testing data shape: (1453, 5), (1453,)\n",
            "Ridge Regression MSE: 0.06514935959541775\n",
            " MAE: 0.13224388643537469\n",
            " R² Score: 0.9999553233386493\n",
            "Time required = 0.0189 seconds\n"
          ]
        }
      ],
      "source": [
        "print(f\"Training data shape: {X_train.shape}, {Y_train.shape}\")\n",
        "print(f\"Testing data shape: {X_test.shape}, {Y_test.shape}\")\n",
        "\n",
        "# Initialize and train the Ridge Regression model (to avoid overfitting)\n",
        "start_time = time.time()\n",
        "model = Ridge(alpha=1.0)  # Alpha is a regularization parameter; larger values = more regularization\n",
        "model.fit(X_train_scaled, Y_train)\n",
        "end_time = time.time()\n",
        "\n",
        "# Make predictions on the test data\n",
        "Y_pred = model.predict(X_test_scaled)\n",
        "\n",
        "# Calculate and print evaluation metrics\n",
        "# Mean Squared Error\n",
        "mse = mean_squared_error(Y_test, Y_pred)\n",
        "print(f\"Ridge Regression MSE: {mse}\")\n",
        "\n",
        "# Mean Absolute Error\n",
        "mae = mean_absolute_error(Y_test, Y_pred)\n",
        "print(f\" MAE: {mae}\")\n",
        "\n",
        "# Calculate R² Score\n",
        "r2 = r2_score(Y_test, Y_pred)\n",
        "print(f\" R² Score: {r2}\")\n",
        "\n",
        "# Time taken for training the model\n",
        "print(f\"Time required = {end_time - start_time:.4f} seconds\")\n"
      ]
    },
    {
      "cell_type": "code",
      "execution_count": null,
      "metadata": {
        "colab": {
          "base_uri": "https://localhost:8080/"
        },
        "id": "9EvHkAh0QI3r",
        "outputId": "8477cab2-b5f1-4e12-f2d9-f30c20031909"
      },
      "outputs": [
        {
          "output_type": "stream",
          "name": "stdout",
          "text": [
            "*******Metrices for training data********\n",
            "\n",
            "MAE:  0.13503797544840004\n",
            "MSE:  0.06146676003008836\n",
            "r2 score:  0.9999581552496857\n",
            "\n",
            "*******Metrices for testing data********\n",
            "\n",
            "MAE:  0.13224388643537469\n",
            "MSE:  0.06514935959541775\n",
            "r2 score:  0.9999553831216266\n"
          ]
        }
      ],
      "source": [
        "print(\"*******Metrices for training data********\")\n",
        "print()\n",
        "Y_pred_train= model.predict(X_train_scaled)\n",
        "print(\"MAE: \", mean_absolute_error(Y_pred_train,Y_train))\n",
        "print(\"MSE: \", mean_squared_error(Y_pred_train,Y_train))\n",
        "print(\"r2 score: \", r2_score(Y_pred_train,Y_train))\n",
        "print()\n",
        "print(\"*******Metrices for testing data********\")\n",
        "print()\n",
        "Y_pred_test = model.predict(X_test_scaled)\n",
        "print(\"MAE: \", mean_absolute_error(Y_pred_test,Y_test))\n",
        "print(\"MSE: \", mean_squared_error(Y_pred_test,Y_test))\n",
        "print(\"r2 score: \", r2_score(Y_pred_test,Y_test))"
      ]
    },
    {
      "cell_type": "markdown",
      "metadata": {
        "id": "vaTV3O0zYQ6J"
      },
      "source": [
        "USING ELASTIC NET , I AM DOING MULTIPLE LINEAR REGRESSION"
      ]
    },
    {
      "cell_type": "markdown",
      "metadata": {
        "id": "cyb_tAK1aaMJ"
      },
      "source": [
        "NOTE THAT , IF I DECREASE THE VALUE OF ALPHA THEN THE MAE AND MSE GETS DECREASED , THAT MEAS THE MODEL WAS PRILIMINARY UNDERFITTED"
      ]
    },
    {
      "cell_type": "code",
      "execution_count": null,
      "metadata": {
        "colab": {
          "base_uri": "https://localhost:8080/"
        },
        "id": "lR8QGqeaYg6Q",
        "outputId": "ec0dbac9-5b4e-4ed1-87ab-84cebf5dda82"
      },
      "outputs": [
        {
          "output_type": "stream",
          "name": "stdout",
          "text": [
            "Elastic Net Regression MSE: 1.2621898089886456\n",
            " MAE: 0.8515731340757209\n",
            " R² Score: 0.9991344438839204\n",
            "required time for model training is 0.008419275283813477 seconds\n",
            " \n",
            "*******Metrices for training data********\n",
            "\n",
            "MAE:  0.8814085056709475\n",
            "MSE:  1.3717192456837823\n",
            "r2 score:  0.9990142788943139\n",
            "\n",
            "*******Metrices for testing data********\n",
            "\n",
            "MAE:  0.8515731340757209\n",
            "MSE:  1.2621898089886456\n",
            "r2 score:  0.9990888302456561\n"
          ]
        }
      ],
      "source": [
        "model = ElasticNet(alpha=0.2, l1_ratio=0.5)\n",
        "\n",
        "start_time = time.time()\n",
        "model.fit(X_train_scaled, Y_train)\n",
        "end_time =time.time()\n",
        "\n",
        "Y_pred = model.predict(X_test_scaled)\n",
        "\n",
        "mse = mean_squared_error(Y_test, Y_pred)\n",
        "print(f\"Elastic Net Regression MSE: {mse}\")\n",
        "\n",
        "mae = mean_absolute_error(Y_test, Y_pred)\n",
        "print(f\" MAE: {mae}\")\n",
        "\n",
        "r2 = r2_score(Y_test, Y_pred)\n",
        "print(f\" R² Score: {r2}\")\n",
        "\n",
        "print(f\"required time for model training is {end_time - start_time} seconds\")\n",
        "print(' ')\n",
        "\n",
        "print(\"*******Metrices for training data********\")\n",
        "print()\n",
        "Y_pred_train = model.predict(X_train_scaled)\n",
        "print(\"MAE: \", mean_absolute_error(Y_pred_train,Y_train))\n",
        "print(\"MSE: \", mean_squared_error(Y_pred_train,Y_train))\n",
        "print(\"r2 score: \", r2_score(Y_pred_train,Y_train))\n",
        "print()\n",
        "print(\"*******Metrices for testing data********\")\n",
        "print()\n",
        "Y_pred_test = model.predict(X_test_scaled)\n",
        "print(\"MAE: \", mean_absolute_error(Y_pred_test,Y_test))\n",
        "print(\"MSE: \", mean_squared_error(Y_pred_test,Y_test))\n",
        "print(\"r2 score: \", r2_score(Y_pred_test,Y_test))"
      ]
    },
    {
      "cell_type": "code",
      "source": [
        "# Initialize Lasso Regression model with alpha parameter\n",
        "start_time = time.time()\n",
        "model = Lasso(alpha= 1.0)\n",
        "model.fit(X_train, Y_train)\n",
        "end_time = time.time()\n",
        "\n",
        "# Make predictions\n",
        "Y_pred = model.predict(X_test)\n",
        "\n",
        "# Calculate Mean Squared Error\n",
        "mse = mean_squared_error(Y_test, Y_pred)\n",
        "print(f\"Lasso Regression MSE: {mse}\")\n",
        "\n",
        "# Calculate Mean Absolute Error\n",
        "mae = mean_absolute_error(Y_test, Y_pred)\n",
        "print(f\" MAE: {mae}\")\n",
        "\n",
        "# Calculate R² Score\n",
        "r2 = r2_score(Y_test, Y_pred)\n",
        "print(f\" R² Score: {r2}\")\n",
        "print(f'Time required for model training training is {end_time - start_time}.')"
      ],
      "metadata": {
        "colab": {
          "base_uri": "https://localhost:8080/"
        },
        "id": "qdKFMrwk3ZxN",
        "outputId": "b0489fc4-68d2-48b0-a70d-bb44fb236b29"
      },
      "execution_count": null,
      "outputs": [
        {
          "output_type": "stream",
          "name": "stdout",
          "text": [
            "Lasso Regression MSE: 0.37045227177284934\n",
            " MAE: 0.31110212021814054\n",
            " R² Score: 0.99974595957972\n",
            "Time required for model training training is 0.023369550704956055.\n"
          ]
        },
        {
          "output_type": "stream",
          "name": "stderr",
          "text": [
            "/usr/local/lib/python3.11/dist-packages/sklearn/linear_model/_coordinate_descent.py:695: ConvergenceWarning: Objective did not converge. You might want to increase the number of iterations, check the scale of the features or consider increasing regularisation. Duality gap: 1.155e+03, tolerance: 4.979e+02\n",
            "  model = cd_fast.enet_coordinate_descent(\n"
          ]
        }
      ]
    },
    {
      "cell_type": "code",
      "source": [
        "print(\"*******Metrices for training data********\")\n",
        "print()\n",
        "Y_pred_train = model.predict(X_train)\n",
        "print(\"MAE: \", mean_absolute_error(Y_pred_train,Y_train))\n",
        "print(\"MSE: \", mean_squared_error(Y_pred_train,Y_train))\n",
        "print(\"r2 score: \", r2_score(Y_pred_train,Y_train))\n",
        "print()\n",
        "print(\"*******Metrices for testing data********\")\n",
        "print()\n",
        "Y_pred_test = model.predict(X_test)\n",
        "print(\"MAE: \", mean_absolute_error(Y_pred_test,Y_test))\n",
        "print(\"MSE: \", mean_squared_error(Y_pred_test,Y_test))\n",
        "print(\"r2 score: \", r2_score(Y_pred_test,Y_test))"
      ],
      "metadata": {
        "colab": {
          "base_uri": "https://localhost:8080/"
        },
        "id": "pxNBoP-n36Fz",
        "outputId": "788f471e-7d60-4ae2-bddf-2ca096480252"
      },
      "execution_count": null,
      "outputs": [
        {
          "output_type": "stream",
          "name": "stdout",
          "text": [
            "*******Metrices for training data********\n",
            "\n",
            "MAE:  0.31773485331963996\n",
            "MSE:  0.34244188456542246\n",
            "r2 score:  0.999766669630322\n",
            "\n",
            "*******Metrices for testing data********\n",
            "\n",
            "MAE:  0.31110212021814054\n",
            "MSE:  0.37045227177284934\n",
            "r2 score:  0.9997463783863301\n"
          ]
        }
      ]
    },
    {
      "cell_type": "markdown",
      "metadata": {
        "id": "iPgg8VQtRXQW"
      },
      "source": [
        "# **POLYNOMIAL REGRESSION**"
      ]
    },
    {
      "cell_type": "code",
      "execution_count": null,
      "metadata": {
        "colab": {
          "base_uri": "https://localhost:8080/"
        },
        "id": "krL8fBxURmQL",
        "outputId": "64ba3082-cb91-4fd4-e3cf-22bfc7919446"
      },
      "outputs": [
        {
          "output_type": "stream",
          "name": "stdout",
          "text": [
            "Polynomial Regression MSE: 0.026510880688941228\n",
            "polynomial Regression MAE: 0.11210271068635644\n",
            "Polynomial Regression R² Score: 0.999981819964985\n"
          ]
        }
      ],
      "source": [
        "# Initialize PolynomialFeatures with the desired degree\n",
        "poly = PolynomialFeatures(degree = 2)\n",
        "\n",
        "# Transform the features\n",
        "X_train_poly = poly.fit_transform(X_train_scaled)\n",
        "X_test_poly = poly.transform(X_test_scaled)\n",
        "\n",
        "\n",
        "# Initialize and train the Ridge Regression model (to avoid overfitting)\n",
        "start_time = time.time()\n",
        "model = Ridge(alpha=1.0)  # Alpha is a regularization parameter; larger values = more regularization\n",
        "model.fit(X_train_poly, Y_train)\n",
        "end_time = time.time()\n",
        "\n",
        "# Make predictions on the test data\n",
        "Y_pred = model.predict(X_test_poly)\n",
        "\n",
        "# Calculate Mean Squared Error\n",
        "mse = mean_squared_error(Y_test, Y_pred)\n",
        "print(f\"Polynomial Regression MSE: {mse}\")\n",
        "\n",
        "# Calculate Mean Absolute Error\n",
        "mae = mean_absolute_error(Y_test, Y_pred)\n",
        "print(f\"polynomial Regression MAE: {mae}\")\n",
        "\n",
        "# Calculate R² Score\n",
        "r2 = r2_score(Y_test, Y_pred)\n",
        "print(f\"Polynomial Regression R² Score: {r2}\")"
      ]
    },
    {
      "cell_type": "code",
      "execution_count": null,
      "metadata": {
        "colab": {
          "base_uri": "https://localhost:8080/"
        },
        "id": "DChF3e3uUOKE",
        "outputId": "7b6629d7-37cc-441c-e863-b73270aec08b"
      },
      "outputs": [
        {
          "output_type": "stream",
          "name": "stdout",
          "text": [
            "*******Metrices for training data********\n",
            "\n",
            "MAE:  0.11587985723453455\n",
            "MSE:  0.029422839731334843\n",
            "r2 score:  0.9999799710026637\n",
            "\n",
            "*******Metrices for testing data********\n",
            "\n",
            "MAE:  0.11210271068635644\n",
            "MSE:  0.026510880688941228\n",
            "r2 score:  0.9999818248124759\n"
          ]
        }
      ],
      "source": [
        "print(\"*******Metrices for training data********\")\n",
        "print()\n",
        "Y_pred_train = model.predict(X_train_poly)\n",
        "print(\"MAE: \", mean_absolute_error(Y_pred_train,Y_train))\n",
        "print(\"MSE: \", mean_squared_error(Y_pred_train,Y_train))\n",
        "print(\"r2 score: \", r2_score(Y_pred_train,Y_train))\n",
        "print()\n",
        "print(\"*******Metrices for testing data********\")\n",
        "print()\n",
        "Y_pred_test = model.predict(X_test_poly)\n",
        "print(\"MAE: \", mean_absolute_error(Y_pred_test,Y_test))\n",
        "print(\"MSE: \", mean_squared_error(Y_pred_test,Y_test))\n",
        "print(\"r2 score: \", r2_score(Y_pred_test,Y_test))"
      ]
    },
    {
      "cell_type": "markdown",
      "metadata": {
        "id": "dBdws3NkUYD8"
      },
      "source": [
        "# **BATCH GRADIENT DESCENT**"
      ]
    },
    {
      "cell_type": "code",
      "source": [
        "# Add a bias term to the training data\n",
        "X_train_scaled = np.c_[np.ones(X_train_scaled.shape[0]), X_train_scaled]  # Add a column of ones for bias\n",
        "Y_train = np.array(Y_train)  # Convert target to NumPy array for efficient computation\n",
        "\n",
        "# Hyperparameters\n",
        "learning_rate = 0.01\n",
        "epochs = 1000\n",
        "\n",
        "weights = np.random.rand(X_train_scaled.shape[1])  # Initialize weights for all features, including bias\n",
        "\n",
        "# Batch Gradient Descent\n",
        "for epoch in range(epochs):\n",
        "    predictions = X_train_scaled.dot(weights)\n",
        "    gradient = 2 * X_train_scaled.T.dot(predictions - Y_train) / X_train_scaled.shape[0]\n",
        "    weights -= learning_rate * gradient\n",
        "\n",
        "    # Print the loss every 100 epochs\n",
        "    if epoch % 100 == 0:\n",
        "        loss = np.mean((predictions - Y_train) ** 2)  # Mean Squared Error (MSE)\n",
        "        print(f\"Epoch {epoch}, Loss: {loss}\")\n",
        "\n",
        "# Testing the model\n",
        "X_test_scaled = np.c_[np.ones(X_test_scaled.shape[0]), X_test_scaled]  # Add bias term to the test set\n",
        "predictions_test = X_test_scaled.dot(weights)  # Compute predictions for the test set\n",
        "test_loss = mean_squared_error(Y_test, predictions_test)  # Compute test loss (MSE)\n",
        "print(f\"Test Loss: {test_loss}\")\n"
      ],
      "metadata": {
        "colab": {
          "base_uri": "https://localhost:8080/"
        },
        "id": "-bQQAAI7-KSc",
        "outputId": "ef92fef7-2f31-4b8b-b9a3-085073605447"
      },
      "execution_count": null,
      "outputs": [
        {
          "output_type": "stream",
          "name": "stdout",
          "text": [
            "Epoch 0, Loss: 2905.330013905488\n",
            "Epoch 100, Loss: 0.8697799913939327\n",
            "Epoch 200, Loss: 0.20642350106527038\n",
            "Epoch 300, Loss: 0.1720965627609557\n",
            "Epoch 400, Loss: 0.1701728908345214\n",
            "Epoch 500, Loss: 0.16993655277387193\n",
            "Epoch 600, Loss: 0.16978819312771218\n",
            "Epoch 700, Loss: 0.16964453448560543\n",
            "Epoch 800, Loss: 0.1695012405453451\n",
            "Epoch 900, Loss: 0.1693580854123279\n",
            "Test Loss: 0.18204521400808044\n"
          ]
        }
      ]
    },
    {
      "cell_type": "code",
      "source": [
        "print(\"*******Metrices for training data********\")\n",
        "print()\n",
        "Y_pred_train = X_train_scaled.dot(weights)\n",
        "print(\"MAE: \", mean_absolute_error(Y_pred_train,Y_train))\n",
        "print(\"MSE: \", mean_squared_error(Y_pred_train,Y_train))\n",
        "print(\"r2 score: \", r2_score(Y_pred_train,Y_train))\n",
        "print()\n",
        "print(\"*******Metrices for testing data********\")\n",
        "print()\n",
        "Y_pred_test = X_test_scaled.dot(weights)\n",
        "print(\"MAE: \", mean_absolute_error(Y_pred_test,Y_test))\n",
        "print(\"MSE: \", mean_squared_error(Y_pred_test,Y_test))\n",
        "print(\"r2 score: \", r2_score(Y_pred_test,Y_test))"
      ],
      "metadata": {
        "colab": {
          "base_uri": "https://localhost:8080/"
        },
        "id": "h9sillvy_Yus",
        "outputId": "9b29b6b5-c2e4-4cea-d8ab-899e6b7e1716"
      },
      "execution_count": null,
      "outputs": [
        {
          "output_type": "stream",
          "name": "stdout",
          "text": [
            "*******Metrices for training data********\n",
            "\n",
            "MAE:  0.22298969845439692\n",
            "MSE:  0.16921505721805216\n",
            "r2 score:  0.9998848180171034\n",
            "\n",
            "*******Metrices for testing data********\n",
            "\n",
            "MAE:  0.21900090706551578\n",
            "MSE:  0.18204521400808044\n",
            "r2 score:  0.9998754415708099\n"
          ]
        }
      ]
    },
    {
      "cell_type": "markdown",
      "metadata": {
        "id": "INwIHng6U-s9"
      },
      "source": [
        "# **STOCHASTIC GRADIENT DESCENT**"
      ]
    },
    {
      "cell_type": "code",
      "execution_count": null,
      "metadata": {
        "colab": {
          "base_uri": "https://localhost:8080/"
        },
        "id": "_M39ZjrzU3JL",
        "outputId": "e0ca4d08-214e-49c8-99d6-26775f784c79"
      },
      "outputs": [
        {
          "output_type": "stream",
          "name": "stdout",
          "text": [
            "Epoch 0, Loss: 0.25222610241101645\n",
            "Epoch 100, Loss: 0.019833230424712148\n",
            "Epoch 200, Loss: 0.005725497026867938\n",
            "Epoch 300, Loss: 0.003455682944722525\n",
            "Epoch 400, Loss: 0.00236397818168867\n",
            "Epoch 500, Loss: 0.0016494010023978046\n",
            "Epoch 600, Loss: 0.001155928805541634\n",
            "Epoch 700, Loss: 0.0008111331411776665\n",
            "Epoch 800, Loss: 0.0005694371655864242\n",
            "Epoch 900, Loss: 0.0003998318743700892\n",
            "Test Loss: 0.0003260360923305416\n"
          ]
        }
      ],
      "source": [
        "# Add a bias term to the training data\n",
        "X_train_scaled = np.c_[np.ones(X_train_scaled.shape[0]), X_train_scaled]  # Add a column of ones for bias\n",
        "X_test_scaled = np.c_[np.ones(X_test_scaled.shape[0]), X_test_scaled]  # Add bias term to the test set\n",
        "Y_train = np.array(Y_train)  # Convert target to NumPy array for efficient computation\n",
        "\n",
        "# Hyperparameters\n",
        "learning_rate = 0.01\n",
        "epochs = 1000\n",
        "\n",
        "# Initialize weights (including bias)\n",
        "weights = np.random.rand(X_train_scaled.shape[1])  # One weight for each feature, including bias\n",
        "\n",
        "# Stochastic Gradient Descent (SGD)\n",
        "for epoch in range(epochs):\n",
        "    for i in range(len(X_train_scaled)):  # Iterate over each data point\n",
        "        x_i = X_train_scaled[i]  # Single data point (with bias included)\n",
        "        y_i = Y_train[i]  # Single target value\n",
        "\n",
        "        # Prediction for a single data point\n",
        "        prediction = np.dot(x_i, weights)\n",
        "\n",
        "        # Compute gradient\n",
        "        gradient = 2 * (prediction - y_i) * x_i\n",
        "\n",
        "        # Update weights\n",
        "        weights -= learning_rate * gradient\n",
        "\n",
        "    # Compute and print the loss every 100 epochs\n",
        "    if epoch % 100 == 0:\n",
        "        predictions = X_train_scaled.dot(weights)  # Predictions for the training set\n",
        "        loss = np.mean((predictions - y_train) ** 2)  # Mean Squared Error (MSE)\n",
        "        print(f\"Epoch {epoch}, Loss: {loss}\")\n",
        "\n",
        "# Testing the model\n",
        "predictions_test = X_test_scaled.dot(weights)  # Compute predictions for the test set\n",
        "test_loss = mean_squared_error(Y_test, predictions_test)  # Compute test loss (MSE)\n",
        "print(f\"Test Loss: {test_loss}\")\n"
      ]
    },
    {
      "cell_type": "code",
      "execution_count": null,
      "metadata": {
        "colab": {
          "base_uri": "https://localhost:8080/"
        },
        "id": "mKOz8vRmVLKn",
        "outputId": "93541fd2-87c6-4e25-8d9c-5c93678f4c29"
      },
      "outputs": [
        {
          "output_type": "stream",
          "name": "stdout",
          "text": [
            "*******Metrices for training data********\n",
            "\n",
            "MAE:  0.008980639662954308\n",
            "MSE:  0.00028176046142388086\n",
            "r2 score:  0.9999998082646366\n",
            "\n",
            "*******Metrices for testing data********\n",
            "\n",
            "MAE:  0.009064409923945492\n",
            "MSE:  0.0003260360923305416\n",
            "r2 score:  0.9999997764788645\n"
          ]
        }
      ],
      "source": [
        "print(\"*******Metrices for training data********\")\n",
        "print()\n",
        "Y_pred_train = X_train_scaled.dot(weights)\n",
        "print(\"MAE: \", mean_absolute_error(Y_pred_train,Y_train))\n",
        "print(\"MSE: \", mean_squared_error(Y_pred_train,Y_train))\n",
        "print(\"r2 score: \", r2_score(Y_pred_train,Y_train))\n",
        "print()\n",
        "print(\"*******Metrices for testing data********\")\n",
        "print()\n",
        "Y_pred_test = X_test_scaled.dot(weights)\n",
        "print(\"MAE: \", mean_absolute_error(Y_pred_test,Y_test))\n",
        "print(\"MSE: \", mean_squared_error(Y_pred_test,Y_test))\n",
        "print(\"r2 score: \", r2_score(Y_pred_test,Y_test))"
      ]
    },
    {
      "cell_type": "markdown",
      "metadata": {
        "id": "swNDJ_KyVS9y"
      },
      "source": [
        "# **MINI BATCH GRADIENT DESCENT**"
      ]
    },
    {
      "cell_type": "code",
      "execution_count": null,
      "metadata": {
        "colab": {
          "base_uri": "https://localhost:8080/"
        },
        "id": "RcWS5vdwHwM-",
        "outputId": "5c7ddcb3-6c10-4e52-f065-c8fca4bc70d8"
      },
      "outputs": [
        {
          "output_type": "stream",
          "name": "stdout",
          "text": [
            "Epoch 0, Loss: 0.6198781754164973\n",
            "Epoch 100, Loss: 0.16021952727589373\n",
            "Epoch 200, Loss: 0.1469294483470654\n",
            "Epoch 300, Loss: 0.13443869797561647\n",
            "Epoch 400, Loss: 0.12273604744772985\n",
            "Epoch 500, Loss: 0.11541484145605813\n",
            "Epoch 600, Loss: 0.10321794139694866\n",
            "Epoch 700, Loss: 0.09621817971352607\n",
            "Epoch 800, Loss: 0.0868553972358312\n",
            "Epoch 900, Loss: 0.08004571312999437\n",
            "Test Loss: 0.08029693672410278\n"
          ]
        }
      ],
      "source": [
        "import numpy as np\n",
        "from sklearn.metrics import mean_squared_error\n",
        "\n",
        "# Add a bias term to the training data\n",
        "X_train_scaled = np.c_[np.ones(X_train_scaled.shape[0]), X_train_scaled]  # Add a column of ones for bias\n",
        "Y_train = np.array(Y_train)  # Convert target to NumPy array for efficient computation\n",
        "\n",
        "# Hyperparameters\n",
        "learning_rate = 0.01\n",
        "epochs = 1000\n",
        "batch_size = 32  # Number of samples in each mini-batch\n",
        "\n",
        "# Initialize weights (including bias)\n",
        "weights = np.random.rand(X_train_scaled.shape[1])  # One weight for each feature, including bias\n",
        "\n",
        "# Mini-Batch Gradient Descent\n",
        "for epoch in range(epochs):\n",
        "    # Shuffle the data at the start of each epoch\n",
        "    indices = np.random.permutation(len(X_train_scaled))  # Shuffle indices\n",
        "    X_shuffled = X_train_scaled[indices]\n",
        "    Y_shuffled = Y_train[indices]\n",
        "\n",
        "    # Iterate through mini-batches\n",
        "    for i in range(0, len(X_train_scaled), batch_size):\n",
        "        # Select mini-batch\n",
        "        X_batch = X_shuffled[i:i + batch_size]\n",
        "        Y_batch = Y_shuffled[i:i + batch_size]\n",
        "\n",
        "        # Predictions for the mini-batch\n",
        "        predictions = X_batch.dot(weights)\n",
        "\n",
        "        # Compute gradients for the mini-batch\n",
        "        gradient = 2 * X_batch.T.dot(predictions - Y_batch) / len(Y_batch)\n",
        "\n",
        "        # Update weights\n",
        "        weights -= learning_rate * gradient\n",
        "\n",
        "    # Compute and print the loss every 100 epochs\n",
        "    if epoch % 100 == 0:\n",
        "        predictions_train = X_train_scaled.dot(weights)  # Predictions for the entire training set\n",
        "        loss = np.mean((predictions_train - Y_train) ** 2)  # Mean Squared Error (MSE)\n",
        "        print(f\"Epoch {epoch}, Loss: {loss}\")\n",
        "\n",
        "# Testing the model\n",
        "X_test_scaled = np.c_[np.ones(X_test_scaled.shape[0]), X_test_scaled]  # Add bias term to the test set\n",
        "predictions_test = X_test_scaled.dot(weights)  # Compute predictions for the test set\n",
        "test_loss = mean_squared_error(Y_test, predictions_test)  # Compute test loss (MSE)\n",
        "print(f\"Test Loss: {test_loss}\")\n"
      ]
    },
    {
      "cell_type": "code",
      "execution_count": null,
      "metadata": {
        "colab": {
          "base_uri": "https://localhost:8080/"
        },
        "id": "4E3ESTTtVnYR",
        "outputId": "a0b9cef8-5eef-4078-ad84-3ae4d8abc7c3"
      },
      "outputs": [
        {
          "output_type": "stream",
          "name": "stdout",
          "text": [
            "*******Metrices for training data********\n",
            "\n",
            "MAE:  0.15210271782695245\n",
            "MSE:  0.07434812150274982\n",
            "r2 score:  0.9999494038210097\n",
            "\n",
            "*******Metrices for testing data********\n",
            "\n",
            "MAE:  0.15047018226499284\n",
            "MSE:  0.08029693672410278\n",
            "r2 score:  0.9999450358784715\n"
          ]
        }
      ],
      "source": [
        "print(\"*******Metrices for training data********\")\n",
        "print()\n",
        "Y_pred_train =  X_train_scaled.dot(weights)\n",
        "print(\"MAE: \", mean_absolute_error(Y_pred_train,Y_train))\n",
        "print(\"MSE: \", mean_squared_error(Y_pred_train,Y_train))\n",
        "print(\"r2 score: \", r2_score(Y_pred_train,Y_train))\n",
        "print()\n",
        "print(\"*******Metrices for testing data********\")\n",
        "print()\n",
        "Y_pred_test = X_test_scaled.dot(weights)\n",
        "print(\"MAE: \", mean_absolute_error(Y_pred_test,Y_test))\n",
        "print(\"MSE: \", mean_squared_error(Y_pred_test,Y_test))\n",
        "print(\"r2 score: \", r2_score(Y_pred_test,Y_test))"
      ]
    },
    {
      "cell_type": "markdown",
      "metadata": {
        "id": "xFta7ZPGzkOK"
      },
      "source": [
        "# **NORMAL EQUATION**\n"
      ]
    },
    {
      "cell_type": "code",
      "execution_count": null,
      "metadata": {
        "id": "nVIty6hkPWhe"
      },
      "outputs": [],
      "source": [
        "from sklearn.metrics import mean_absolute_error, mean_squared_error, r2_score\n",
        "import numpy as np\n",
        "\n",
        "# Add bias term to the training and testing data\n",
        "X_train_scaled = np.c_[np.ones(X_train_scaled.shape[0]), X_train_scaled]  # Add bias column\n",
        "X_test_scaled = np.c_[np.ones(X_test_scaled.shape[0]), X_test_scaled]    # Add bias column\n",
        "\n",
        "# Compute weights using the Normal Equation (using pseudoinverse instead of direct inverse)\n",
        "XTX = X_train_scaled.T @ X_train_scaled  # X^T * X\n",
        "XTY = X_train_scaled.T @ Y_train         # X^T * Y\n",
        "weights_normal = np.linalg.pinv(XTX) @ XTY  # Use pseudoinverse instead of inverse\n",
        "\n",
        "# Predictions for the test set\n",
        "predictions_test_normal = X_test_scaled @ weights_normal"
      ]
    },
    {
      "cell_type": "code",
      "source": [
        "print(\"*******Metrices for training data********\")\n",
        "print()\n",
        "Y_pred_train =  X_train_scaled @ weights_normal\n",
        "print(\"MAE: \", mean_absolute_error(Y_pred_train,Y_train))\n",
        "print(\"MSE: \", mean_squared_error(Y_pred_train,Y_train))\n",
        "print(\"r2 score: \", r2_score(Y_pred_train,Y_train))\n",
        "print()\n",
        "print(\"*******Metrices for testing data********\")\n",
        "print()\n",
        "Y_pred_test =  X_test_scaled @ weights_normal\n",
        "print(\"MAE: \", mean_absolute_error(Y_pred_test,Y_test))\n",
        "print(\"MSE: \", mean_squared_error(Y_pred_test,Y_test))\n",
        "print(\"r2 score: \", r2_score(Y_pred_test,Y_test))"
      ],
      "metadata": {
        "colab": {
          "base_uri": "https://localhost:8080/"
        },
        "id": "x-Zw2Avl_11C",
        "outputId": "eca3479e-9778-4bd9-9e39-45ad869ca9d2"
      },
      "execution_count": null,
      "outputs": [
        {
          "output_type": "stream",
          "name": "stdout",
          "text": [
            "*******Metrices for training data********\n",
            "\n",
            "MAE:  9.82939745138219e-11\n",
            "MSE:  1.5200126524338864e-20\n",
            "r2 score:  1.0\n",
            "\n",
            "*******Metrices for testing data********\n",
            "\n",
            "MAE:  9.978488540919154e-11\n",
            "MSE:  1.5141836447652302e-20\n",
            "r2 score:  1.0\n"
          ]
        }
      ]
    },
    {
      "cell_type": "markdown",
      "metadata": {
        "id": "QYKpENkEzrwv"
      },
      "source": [
        "# **SINGULAR VALUE DECOMPOSITION**"
      ]
    },
    {
      "cell_type": "code",
      "execution_count": null,
      "metadata": {
        "id": "bCm43EL9vhjH"
      },
      "outputs": [],
      "source": [
        "# Add bias term to the training and testing data\n",
        "X_train_scaled = np.c_[np.ones(X_train_scaled.shape[0]), X_train_scaled]  # Add bias column\n",
        "X_test_scaled = np.c_[np.ones(X_test_scaled.shape[0]), X_test_scaled]    # Add bias column\n",
        "\n",
        "# Perform Singular Value Decomposition (SVD)\n",
        "U, S, Vt = np.linalg.svd(X_train_scaled, full_matrices=False)\n",
        "\n",
        "# Compute weights using SVD-based Normal Equation\n",
        "S_inv = np.diag(1 / S)  # Inverse of the singular values matrix\n",
        "weights_svd = Vt.T @ S_inv @ U.T @ Y_train  # Compute weights using SVD formula\n",
        "\n",
        "# Predictions for the test set\n",
        "predictions_test_svd = X_test_scaled @ weights_svd"
      ]
    },
    {
      "cell_type": "code",
      "execution_count": null,
      "metadata": {
        "colab": {
          "base_uri": "https://localhost:8080/"
        },
        "id": "10JiJ0jbu1LZ",
        "outputId": "9d159856-306f-4d3c-d6ee-5eeb5ab42193"
      },
      "outputs": [
        {
          "output_type": "stream",
          "name": "stdout",
          "text": [
            "*******Metrics for Training Data********\n",
            "\n",
            "MAE:  1.0158695607094899\n",
            "MSE:  1.031990964376092\n",
            "R² Score:  0.9992976232566019\n",
            "\n",
            "*******Metrics for Testing Data********\n",
            "\n",
            "MAE:  1.0158695607094959\n",
            "MSE:  1.031990964376104\n",
            "R² Score:  0.9992923044659421\n"
          ]
        }
      ],
      "source": [
        "\n",
        "\n",
        "# Print metrics for training data\n",
        "print(\"*******Metrics for Training Data********\")\n",
        "print()\n",
        "Y_train_pred = X_train_scaled @ weights_svd\n",
        "print(\"MAE: \", mean_absolute_error(Y_train, Y_train_pred))\n",
        "print(\"MSE: \", mean_squared_error(Y_train, Y_train_pred))\n",
        "print(\"R² Score: \", r2_score(Y_train, Y_train_pred))\n",
        "print()\n",
        "\n",
        "# Print metrics for testing data\n",
        "print(\"*******Metrics for Testing Data********\")\n",
        "print()\n",
        "Y_test_pred = X_test_scaled @ weights_svd\n",
        "print(\"MAE: \", mean_absolute_error(Y_test, Y_test_pred))\n",
        "print(\"MSE: \", mean_squared_error(Y_test, Y_test_pred))\n",
        "print(\"R² Score: \", r2_score(Y_test, Y_test_pred))\n"
      ]
    },
    {
      "cell_type": "markdown",
      "metadata": {
        "id": "wQ8PCZFCvwn1"
      },
      "source": [
        "## **Conclusion :**\n",
        "## I have used the **Google Stock Price** prediction dataset . After applying different types of model we get the better train and test error values also thaking the time to fit the data for the model , I see **SVD and** **Normal Equation** gives us the perfect prediction .  Based on their accuracy and computation time we can say that this two models are suitable . Also SVD , Ridge Regression , Elastic Net give good prediction . Moreover all the types of Gradient Descent Algorithms give good prediction .\n",
        "\n"
      ]
    }
  ],
  "metadata": {
    "colab": {
      "provenance": []
    },
    "kernelspec": {
      "display_name": "Python 3",
      "name": "python3"
    },
    "language_info": {
      "name": "python"
    }
  },
  "nbformat": 4,
  "nbformat_minor": 0
}